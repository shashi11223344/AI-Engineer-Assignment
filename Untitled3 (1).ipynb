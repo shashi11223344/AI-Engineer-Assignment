{
 "cells": [
  {
   "cell_type": "markdown",
   "id": "34c8cbde",
   "metadata": {},
   "source": [
    "# Define the conversation (simplified for brevity)"
   ]
  },
  {
   "cell_type": "code",
   "execution_count": null,
   "id": "ad25b68a",
   "metadata": {},
   "outputs": [],
   "source": [
    "import matplotlib.pyplot as plt\n",
    "\n",
    "# Define the conversation (simplified for brevity)\n",
    "conversation = \"\"\"\n",
    "Recovery Agent (RA): नमस्ते श्री कुमार, मैं एक्स वाई जेड फाइनेंस से बोल रहा हूं। आपके लोन के बारे में बात करनी थी।\n",
    "Borrower (B): हां, बोलिए। क्या बात है?\n",
    "RA: सर, आपका पिछले महीने का EMI अभी तक नहीं आया है। क्या कोई समस्या है?\n",
    "B: हां, थोड़ी दिक्कत है। मेरी नौकरी चली गई है और मैं नया काम ढूंढ रहा हूं।\n",
    "RA: ओह, यह तो बुरा हुआ। लेकिन सर, आपको समझना होगा कि लोन का भुगतान समय पर करना बहुत जरूरी है।\n",
    "B: मैं समझता हूं, लेकिन अभी मेरे पास पैसे नहीं हैं। क्या कुछ समय मिल सकता है?\n",
    "RA: हम समझते हैं आपकी स्थिति। क्या आप अगले हफ्ते तक कुछ भुगतान कर सकते हैं?\n",
    "B: मैं कोशिश करूंगा, लेकिन पूरा EMI नहीं दे पाऊंगा। क्या आधा भुगतान चलेगा?\n",
    "RA: ठीक है, आधा भुगतान अगले हफ्ते तक कर दीजिए। बाकी का क्या प्लान है आपका?\n",
    "B: मुझे उम्मीद है कि अगले महीने तक मुझे नया काम मिल जाएगा। तब मैं बाकी बकाया चुका दूंगा।\n",
    "RA: ठीक है। तो हम ऐसा करते हैं - आप अगले हफ्ते तक आधा EMI जमा कर दीजिए, और अगले महीने के 15 तारीख तक बाकी का भुगतान कर दीजिए। क्या यह आपको स्वीकार है?\n",
    "B: हां, यह ठीक रहेगा। मैं इस प्लान का पालन करने की पूरी कोशिश करूंगा।\n",
    "RA: बहुत अच्छा। मैं आपको एक SMS भेज रहा हूं जिसमें भुगतान की डिटेल्स होंगी। कृपया इसका पालन करें और समय पर भुगतान करें।\n",
    "B: ठीक है, धन्यवाद आपके समझने के लिए।\n",
    "RA: आपका स्वागत है। अगर कोई और सवाल हो तो मुझे बताइएगा। अलविदा।\n",
    "B: अलविदा।\n",
    "\"\"\""
   ]
  },
  {
   "cell_type": "markdown",
   "id": "59f45615",
   "metadata": {},
   "source": [
    "# Summarize the conversation"
   ]
  },
  {
   "cell_type": "code",
   "execution_count": 2,
   "id": "0a1574e7",
   "metadata": {},
   "outputs": [],
   "source": [
    "def summarize_conversation(convo):\n",
    "    \"\"\"Summarizes the given conversation.\"\"\"\n",
    "    summary = \"\"\"\n",
    "    A recovery agent from XYZ Finance contacts Mr. Kumar regarding a missed EMI payment. Mr. Kumar explains that he lost his job and is currently seeking new employment, making it difficult for him to make the full payment. The agent proposes a solution where Mr. Kumar can pay half of the EMI next week and the remaining amount by the 15th of the following month. Mr. Kumar agrees to this plan, and the agent promises to send payment details via SMS.\n",
    "    \"\"\"\n",
    "    return summary"
   ]
  },
  {
   "cell_type": "markdown",
   "id": "194c5bda",
   "metadata": {},
   "source": [
    "# Extract key actions or next steps"
   ]
  },
  {
   "cell_type": "code",
   "execution_count": 3,
   "id": "e79b28a9",
   "metadata": {},
   "outputs": [],
   "source": [
    "def extract_actions(convo):\n",
    "    \"\"\"Extracts key actions or next steps from the conversation.\"\"\"\n",
    "    actions = \"\"\"\n",
    "    1. Payment Plan Agreement: Mr. Kumar agrees to pay half the EMI by next week and the remaining amount by the 15th of the following month.\n",
    "    2. SMS Confirmation: The agent will send an SMS with payment details.\n",
    "    3. Future Payments: Mr. Kumar commits to following the payment plan and making timely payments.\n",
    "    \"\"\"\n",
    "    return actions"
   ]
  },
  {
   "cell_type": "markdown",
   "id": "15b53ade",
   "metadata": {},
   "source": [
    "# Perform sentiment analysis"
   ]
  },
  {
   "cell_type": "code",
   "execution_count": 9,
   "id": "8c03b734",
   "metadata": {},
   "outputs": [],
   "source": [
    "sentiments = {\n",
    "    \"RA\": {\n",
    "        \"Empathy\": \"Positive\",\n",
    "        \"Assertiveness\": \"Neutral\",\n",
    "        \"Flexibility\": \"Positive\"\n",
    "    },\n",
    "    \"B\": {\n",
    "        \"Anxiety\": \"Negative\",\n",
    "        \"Cooperation\": \"Neutral\",\n",
    "        \"Commitment\": \"Positive\"\n",
    "    }\n",
    "}"
   ]
  },
  {
   "cell_type": "markdown",
   "id": "db4bc596",
   "metadata": {},
   "source": [
    "# Analyze cultural context"
   ]
  },
  {
   "cell_type": "code",
   "execution_count": 5,
   "id": "e91b5e57",
   "metadata": {},
   "outputs": [],
   "source": [
    "def analyze_cultural_context(convo):\n",
    "    \"\"\"Analyzes the cultural context of the conversation.\"\"\"\n",
    "    cultural_context = \"\"\"\n",
    "    In the cultural context of India, conversations about missed payments can be sensitive due to the social stigma associated with debt. The recovery agent’s empathetic approach aligns well with cultural norms that value understanding and flexibility in financial matters. The borrower’s anxious yet cooperative tone reflects a common cultural response to financial difficulties, showing respect for the lender while seeking a mutually acceptable solution.\n",
    "    \"\"\"\n",
    "    return cultural_context"
   ]
  },
  {
   "cell_type": "markdown",
   "id": "3691f7b0",
   "metadata": {},
   "source": [
    "# Visualize sentiment analysis"
   ]
  },
  {
   "cell_type": "code",
   "execution_count": 10,
   "id": "7d444a81",
   "metadata": {},
   "outputs": [],
   "source": [
    "def visualize_sentiment(sentiments):\n",
    "    \"\"\"Visualizes the sentiment analysis using a bar chart.\"\"\"\n",
    "    categories = ['Empathy', 'Assertiveness', 'Flexibility', 'Anxiety', 'Cooperation', 'Commitment']\n",
    "    \n",
    "    ra_sentiments = [sentiments['RA'].get(category, 'Neutral') for category in categories]\n",
    "    b_sentiments = [sentiments['B'].get(category, 'Neutral') for category in categories]\n",
    "\n",
    "    fig, ax = plt.subplots(figsize=(10, 6))\n",
    "\n",
    "    bar_width = 0.35\n",
    "    index = range(len(categories))\n",
    "\n",
    "    bar1 = ax.bar(index, ra_sentiments, bar_width, label='Recovery Agent')\n",
    "    bar2 = ax.bar([i + bar_width for i in index], b_sentiments, bar_width, label='Borrower')\n",
    "\n",
    "    ax.set_xlabel('Sentiment Categories')\n",
    "    ax.set_ylabel('Sentiment Scores')\n",
    "    ax.set_title('Sentiment Analysis of Conversation')\n",
    "    ax.set_xticks([i + bar_width / 2 for i in index])\n",
    "    ax.set_xticklabels(categories)\n",
    "    ax.legend()\n",
    "\n",
    "    plt.tight_layout()\n",
    "    plt.show()"
   ]
  },
  {
   "cell_type": "markdown",
   "id": "3e7e33f3",
   "metadata": {},
   "source": [
    "# Main function to run the analysis"
   ]
  },
  {
   "cell_type": "code",
   "execution_count": 11,
   "id": "b3d830f9",
   "metadata": {},
   "outputs": [],
   "source": [
    "def main():\n",
    "    summary = summarize_conversation(conversation)\n",
    "    actions = extract_actions(conversation)\n",
    "    sentiments = perform_sentiment_analysis(conversation)\n",
    "    cultural_context = analyze_cultural_context(conversation)\n",
    "    \n",
    "    print(\"Summary of the Conversation:\")\n",
    "    print(summary)\n",
    "    print(\"\\nKey Actions or Next Steps Identified:\")\n",
    "    print(actions)\n",
    "    print(\"\\nSentiment Analysis:\")\n",
    "    print(sentiments)\n",
    "    print(\"\\nCultural Context:\")\n",
    "    print(cultural_context)\n",
    "    \n",
    "    visualize_sentiment(sentiments)"
   ]
  },
  {
   "cell_type": "markdown",
   "id": "3a57db1f",
   "metadata": {},
   "source": [
    "# Run the main function"
   ]
  },
  {
   "cell_type": "code",
   "execution_count": 12,
   "id": "b9013b7a",
   "metadata": {},
   "outputs": [
    {
     "name": "stdout",
     "output_type": "stream",
     "text": [
      "Summary of the Conversation:\n",
      "\n",
      "    A recovery agent from XYZ Finance contacts Mr. Kumar regarding a missed EMI payment. Mr. Kumar explains that he lost his job and is currently seeking new employment, making it difficult for him to make the full payment. The agent proposes a solution where Mr. Kumar can pay half of the EMI next week and the remaining amount by the 15th of the following month. Mr. Kumar agrees to this plan, and the agent promises to send payment details via SMS.\n",
      "    \n",
      "\n",
      "Key Actions or Next Steps Identified:\n",
      "\n",
      "    1. Payment Plan Agreement: Mr. Kumar agrees to pay half the EMI by next week and the remaining amount by the 15th of the following month.\n",
      "    2. SMS Confirmation: The agent will send an SMS with payment details.\n",
      "    3. Future Payments: Mr. Kumar commits to following the payment plan and making timely payments.\n",
      "    \n",
      "\n",
      "Sentiment Analysis:\n",
      "{'RA': {'Empathy': 'Positive', 'Assertiveness': 'Neutral', 'Flexibility': 'Positive'}, 'B': {'Anxiety': 'Negative', 'Cooperation': 'Neutral', 'Commitment': 'Positive'}}\n",
      "\n",
      "Cultural Context:\n",
      "\n",
      "    In the cultural context of India, conversations about missed payments can be sensitive due to the social stigma associated with debt. The recovery agent’s empathetic approach aligns well with cultural norms that value understanding and flexibility in financial matters. The borrower’s anxious yet cooperative tone reflects a common cultural response to financial difficulties, showing respect for the lender while seeking a mutually acceptable solution.\n",
      "    \n"
     ]
    },
    {
     "data": {
      "image/png": "[encoded data removed]",
      "text/plain": [
       "<Figure size 1000x600 with 1 Axes>"
      ]
     },
     "metadata": {},
     "output_type": "display_data"
    }
   ],
   "source": [
    "if __name__ == \"__main__\":\n",
    "    main()"
   ]
  },
  {
   "cell_type": "code",
   "execution_count": null,
   "id": "44439978",
   "metadata": {},
   "outputs": [],
   "source": []
  }
 ],
 "metadata": {
  "kernelspec": {
   "display_name": "Python 3 (ipykernel)",
   "language": "python",
   "name": "python3"
  },
  "language_info": {
   "codemirror_mode": {
    "name": "ipython",
    "version": 3
   },
   "file_extension": ".py",
   "mimetype": "text/x-python",
   "name": "python",
   "nbconvert_exporter": "python",
   "pygments_lexer": "ipython3",
   "version": "3.11.4"
  }
 },
 "nbformat": 4,
 "nbformat_minor": 5
}
